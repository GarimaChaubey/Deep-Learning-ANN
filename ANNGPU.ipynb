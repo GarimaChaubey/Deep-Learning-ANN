{
  "nbformat": 4,
  "nbformat_minor": 0,
  "metadata": {
    "colab": {
      "provenance": [],
      "gpuType": "T4",
      "authorship_tag": "ABX9TyP3AHpazFjws3DJa/uc0XhP",
      "include_colab_link": true
    },
    "kernelspec": {
      "name": "python3",
      "display_name": "Python 3"
    },
    "language_info": {
      "name": "python"
    },
    "accelerator": "GPU"
  },
  "cells": [
    {
      "cell_type": "markdown",
      "metadata": {
        "id": "view-in-github",
        "colab_type": "text"
      },
      "source": [
        "<a href=\"https://colab.research.google.com/github/GarimaChaubey/Deep-Learning-ANN/blob/main/ANNGPU.ipynb\" target=\"_parent\"><img src=\"https://colab.research.google.com/assets/colab-badge.svg\" alt=\"Open In Colab\"/></a>"
      ]
    },
    {
      "cell_type": "markdown",
      "source": [
        "## Test whether GPU is working"
      ],
      "metadata": {
        "id": "PqPwE6_i48re"
      }
    },
    {
      "cell_type": "code",
      "execution_count": null,
      "metadata": {
        "colab": {
          "base_uri": "https://localhost:8080/",
          "height": 36
        },
        "id": "9FTrbF983MAI",
        "outputId": "901d7aff-d116-44d8-d988-0b71f7d64c92"
      },
      "outputs": [
        {
          "output_type": "execute_result",
          "data": {
            "text/plain": [
              "'/device:GPU:0'"
            ],
            "application/vnd.google.colaboratory.intrinsic+json": {
              "type": "string"
            }
          },
          "metadata": {},
          "execution_count": 1
        }
      ],
      "source": [
        "import tensorflow as tf\n",
        "tf.test.gpu_device_name()"
      ]
    },
    {
      "cell_type": "markdown",
      "source": [
        "## Which GPU we are using?"
      ],
      "metadata": {
        "id": "PWRLc5mr5Gw5"
      }
    },
    {
      "cell_type": "code",
      "source": [
        "from tensorflow.python.client import device_lib\n",
        "device_lib.list_local_devices()"
      ],
      "metadata": {
        "colab": {
          "base_uri": "https://localhost:8080/"
        },
        "id": "Stm5yGDa431k",
        "outputId": "8971e1ef-fcfd-43d4-f70b-ffa8fa9cf389"
      },
      "execution_count": null,
      "outputs": [
        {
          "output_type": "execute_result",
          "data": {
            "text/plain": [
              "[name: \"/device:CPU:0\"\n",
              " device_type: \"CPU\"\n",
              " memory_limit: 268435456\n",
              " locality {\n",
              " }\n",
              " incarnation: 17536609930431085163\n",
              " xla_global_id: -1,\n",
              " name: \"/device:GPU:0\"\n",
              " device_type: \"GPU\"\n",
              " memory_limit: 14626652160\n",
              " locality {\n",
              "   bus_id: 1\n",
              "   links {\n",
              "   }\n",
              " }\n",
              " incarnation: 10915638797939366252\n",
              " physical_device_desc: \"device: 0, name: Tesla T4, pci bus id: 0000:00:04.0, compute capability: 7.5\"\n",
              " xla_global_id: 416903419]"
            ]
          },
          "metadata": {},
          "execution_count": 2
        }
      ]
    },
    {
      "cell_type": "markdown",
      "source": [
        "## RAM Information"
      ],
      "metadata": {
        "id": "jGpS-dz25y1V"
      }
    },
    {
      "cell_type": "code",
      "source": [
        "!cat /proc/meminfo"
      ],
      "metadata": {
        "colab": {
          "base_uri": "https://localhost:8080/"
        },
        "id": "oobaLn9x5dWe",
        "outputId": "c5022ad7-7109-49f3-cb57-94640b3fd18b"
      },
      "execution_count": null,
      "outputs": [
        {
          "output_type": "stream",
          "name": "stdout",
          "text": [
            "MemTotal:       13290452 kB\n",
            "MemFree:         6389960 kB\n",
            "MemAvailable:   11599048 kB\n",
            "Buffers:          435768 kB\n",
            "Cached:          4926768 kB\n",
            "SwapCached:            0 kB\n",
            "Active:           887548 kB\n",
            "Inactive:        5511812 kB\n",
            "Active(anon):       1420 kB\n",
            "Inactive(anon):  1047368 kB\n",
            "Active(file):     886128 kB\n",
            "Inactive(file):  4464444 kB\n",
            "Unevictable:          20 kB\n",
            "Mlocked:              20 kB\n",
            "SwapTotal:             0 kB\n",
            "SwapFree:              0 kB\n",
            "Dirty:               780 kB\n",
            "Writeback:             0 kB\n",
            "AnonPages:       1036864 kB\n",
            "Mapped:           820592 kB\n",
            "Shmem:             11952 kB\n",
            "KReclaimable:     184084 kB\n",
            "Slab:             245120 kB\n",
            "SReclaimable:     184084 kB\n",
            "SUnreclaim:        61036 kB\n",
            "KernelStack:        7904 kB\n",
            "PageTables:        14904 kB\n",
            "SecPageTables:         0 kB\n",
            "NFS_Unstable:          0 kB\n",
            "Bounce:                0 kB\n",
            "WritebackTmp:          0 kB\n",
            "CommitLimit:     6645224 kB\n",
            "Committed_AS:    4312924 kB\n",
            "VmallocTotal:   34359738367 kB\n",
            "VmallocUsed:       84812 kB\n",
            "VmallocChunk:          0 kB\n",
            "Percpu:             1168 kB\n",
            "HardwareCorrupted:     0 kB\n",
            "AnonHugePages:         0 kB\n",
            "ShmemHugePages:        0 kB\n",
            "ShmemPmdMapped:        0 kB\n",
            "FileHugePages:         0 kB\n",
            "FilePmdMapped:         0 kB\n",
            "CmaTotal:              0 kB\n",
            "CmaFree:               0 kB\n",
            "Unaccepted:            0 kB\n",
            "HugePages_Total:       0\n",
            "HugePages_Free:        0\n",
            "HugePages_Rsvd:        0\n",
            "HugePages_Surp:        0\n",
            "Hugepagesize:       2048 kB\n",
            "Hugetlb:               0 kB\n",
            "DirectMap4k:      238392 kB\n",
            "DirectMap2M:     7098368 kB\n",
            "DirectMap1G:     8388608 kB\n"
          ]
        }
      ]
    },
    {
      "cell_type": "markdown",
      "source": [
        "## CPU Information"
      ],
      "metadata": {
        "id": "c0RecXtH6ECc"
      }
    },
    {
      "cell_type": "code",
      "source": [
        "!cat /proc/cpuinfo"
      ],
      "metadata": {
        "colab": {
          "base_uri": "https://localhost:8080/"
        },
        "id": "TSr31hAz5_fK",
        "outputId": "c003ff0c-7c7b-4bb7-91ef-b1133f8eaa76"
      },
      "execution_count": null,
      "outputs": [
        {
          "output_type": "stream",
          "name": "stdout",
          "text": [
            "processor\t: 0\n",
            "vendor_id\t: GenuineIntel\n",
            "cpu family\t: 6\n",
            "model\t\t: 85\n",
            "model name\t: Intel(R) Xeon(R) CPU @ 2.00GHz\n",
            "stepping\t: 3\n",
            "microcode\t: 0xffffffff\n",
            "cpu MHz\t\t: 2000.190\n",
            "cache size\t: 39424 KB\n",
            "physical id\t: 0\n",
            "siblings\t: 2\n",
            "core id\t\t: 0\n",
            "cpu cores\t: 1\n",
            "apicid\t\t: 0\n",
            "initial apicid\t: 0\n",
            "fpu\t\t: yes\n",
            "fpu_exception\t: yes\n",
            "cpuid level\t: 13\n",
            "wp\t\t: yes\n",
            "flags\t\t: fpu vme de pse tsc msr pae mce cx8 apic sep mtrr pge mca cmov pat pse36 clflush mmx fxsr sse sse2 ss ht syscall nx pdpe1gb rdtscp lm constant_tsc rep_good nopl xtopology nonstop_tsc cpuid tsc_known_freq pni pclmulqdq ssse3 fma cx16 pcid sse4_1 sse4_2 x2apic movbe popcnt aes xsave avx f16c rdrand hypervisor lahf_lm abm 3dnowprefetch invpcid_single ssbd ibrs ibpb stibp fsgsbase tsc_adjust bmi1 hle avx2 smep bmi2 erms invpcid rtm mpx avx512f avx512dq rdseed adx smap clflushopt clwb avx512cd avx512bw avx512vl xsaveopt xsavec xgetbv1 xsaves arat md_clear arch_capabilities\n",
            "bugs\t\t: cpu_meltdown spectre_v1 spectre_v2 spec_store_bypass l1tf mds swapgs taa mmio_stale_data retbleed bhi\n",
            "bogomips\t: 4000.38\n",
            "clflush size\t: 64\n",
            "cache_alignment\t: 64\n",
            "address sizes\t: 46 bits physical, 48 bits virtual\n",
            "power management:\n",
            "\n",
            "processor\t: 1\n",
            "vendor_id\t: GenuineIntel\n",
            "cpu family\t: 6\n",
            "model\t\t: 85\n",
            "model name\t: Intel(R) Xeon(R) CPU @ 2.00GHz\n",
            "stepping\t: 3\n",
            "microcode\t: 0xffffffff\n",
            "cpu MHz\t\t: 2000.190\n",
            "cache size\t: 39424 KB\n",
            "physical id\t: 0\n",
            "siblings\t: 2\n",
            "core id\t\t: 0\n",
            "cpu cores\t: 1\n",
            "apicid\t\t: 1\n",
            "initial apicid\t: 1\n",
            "fpu\t\t: yes\n",
            "fpu_exception\t: yes\n",
            "cpuid level\t: 13\n",
            "wp\t\t: yes\n",
            "flags\t\t: fpu vme de pse tsc msr pae mce cx8 apic sep mtrr pge mca cmov pat pse36 clflush mmx fxsr sse sse2 ss ht syscall nx pdpe1gb rdtscp lm constant_tsc rep_good nopl xtopology nonstop_tsc cpuid tsc_known_freq pni pclmulqdq ssse3 fma cx16 pcid sse4_1 sse4_2 x2apic movbe popcnt aes xsave avx f16c rdrand hypervisor lahf_lm abm 3dnowprefetch invpcid_single ssbd ibrs ibpb stibp fsgsbase tsc_adjust bmi1 hle avx2 smep bmi2 erms invpcid rtm mpx avx512f avx512dq rdseed adx smap clflushopt clwb avx512cd avx512bw avx512vl xsaveopt xsavec xgetbv1 xsaves arat md_clear arch_capabilities\n",
            "bugs\t\t: cpu_meltdown spectre_v1 spectre_v2 spec_store_bypass l1tf mds swapgs taa mmio_stale_data retbleed bhi\n",
            "bogomips\t: 4000.38\n",
            "clflush size\t: 64\n",
            "cache_alignment\t: 64\n",
            "address sizes\t: 46 bits physical, 48 bits virtual\n",
            "power management:\n",
            "\n"
          ]
        }
      ]
    },
    {
      "cell_type": "markdown",
      "source": [
        "## Running ANN using Google Colab"
      ],
      "metadata": {
        "id": "UsSjbdqM6Wec"
      }
    },
    {
      "cell_type": "code",
      "source": [],
      "metadata": {
        "id": "tECCsnBL6Pyw"
      },
      "execution_count": null,
      "outputs": []
    },
    {
      "cell_type": "code",
      "source": [
        "from google.colab import drive\n",
        "drive.mount('/content/drive')"
      ],
      "metadata": {
        "colab": {
          "base_uri": "https://localhost:8080/"
        },
        "id": "PFv4CAsm8GAv",
        "outputId": "38e558d9-aae1-4622-9529-026c2a5e3df2"
      },
      "execution_count": null,
      "outputs": [
        {
          "output_type": "stream",
          "name": "stdout",
          "text": [
            "Mounted at /content/drive\n"
          ]
        }
      ]
    },
    {
      "cell_type": "code",
      "source": [
        " !pip install -q keras"
      ],
      "metadata": {
        "id": "qma-E-u57aa-"
      },
      "execution_count": 2,
      "outputs": []
    },
    {
      "cell_type": "code",
      "source": [
        "import pandas as pd"
      ],
      "metadata": {
        "id": "ZRflXo6X9ee4"
      },
      "execution_count": 3,
      "outputs": []
    },
    {
      "cell_type": "code",
      "source": [
        "import numpy as np\n",
        "import matplotlib.pyplot as plt\n",
        "import pandas as pd\n",
        "\n",
        "df=pd.read_csv(\"/content/drive/MyDrive/deep learning/Churn_Modelling.csv\")\n",
        "\n",
        "X= df.iloc[:, 3:13]\n",
        "y= df.iloc[:, 13]\n",
        "\n",
        "#create dummy variables\n",
        "geog=pd.get_dummies(X[\"Geography\"], drop_first=True)\n",
        "gender=pd.get_dummies(X['Gender'], drop_first=True)\n",
        "\n",
        "#concat the dataframe\n",
        "X=pd.concat([X,geog,gender], axis=1)\n",
        "\n",
        "#Drop unnecessary columns\n",
        "X=X.drop(['Geography', 'Gender'],axis=1)\n",
        "\n",
        "#Splitting the dataset into the Training set and Test set\n",
        "from sklearn.model_selection import train_test_split\n",
        "X_train, X_test, y_train, y_test = train_test_split(X,y, test_size=0.2, random_state=0)\n",
        "\n",
        "\n",
        "#Feature Scaling\n",
        "from sklearn.preprocessing import StandardScaler\n",
        "sc= StandardScaler()\n",
        "X_train= sc.fit_transform(X_train)\n",
        "X_test=sc.transform(X_test)\n",
        "\n",
        "\n",
        "\n",
        "\n",
        "#ANN\n",
        "\n",
        "#importing the Keras libraries and packages\n",
        "import keras\n",
        "from keras.models import Sequential\n",
        "from keras.layers import Dense\n",
        "\n",
        "from keras.layers import Dropout\n",
        "\n",
        "#initialising the ANN\n",
        "classifier= Sequential()\n",
        "\n",
        "\n",
        "#Adding input layer and first hidden layers\n",
        "classifier.add(Dense(units=6, kernel_initializer='he_uniform', activation='relu', input_dim=11))\n",
        "classifier.add(Dropout(0.3))\n",
        "#Adding the second hidden layers\n",
        "classifier.add(Dense(units=6, kernel_initializer='he_uniform', activation='relu'))\n",
        "classifier.add(Dropout(0.4))\n",
        "#Adding the output layer\n",
        "classifier.add(Dense(units=1, kernel_initializer='glorot_uniform', activation= 'sigmoid'))\n",
        "\n",
        "\n",
        "#compiling the ANN\n",
        "classifier.compile(optimizer='adam', loss='binary_crossentropy', metrics=['accuracy'])\n",
        "\n",
        "\n",
        "model_history=classifier.fit(X_train,y_train, validation_split=0.33, batch_size=10, epochs =100)\n",
        "\n",
        "\n",
        "\n",
        "\n",
        "#Predicting the test set results\n",
        "y_pred= classifier.predict(X_test)\n",
        "y_pred=(y_pred>0.5)\n",
        "\n",
        "\n",
        "#calculate accuracy\n",
        "from sklearn.metrics import accuracy_score\n",
        "score=accuracy_score(y_pred, y_test)\n",
        "\n"
      ],
      "metadata": {
        "colab": {
          "base_uri": "https://localhost:8080/"
        },
        "id": "f33cRRXy9lKJ",
        "outputId": "458e25c1-3ae3-4916-e21d-ad47ef99a5f9"
      },
      "execution_count": 4,
      "outputs": [
        {
          "output_type": "stream",
          "name": "stdout",
          "text": [
            "Epoch 1/100\n",
            "536/536 [==============================] - 8s 5ms/step - loss: 0.6742 - accuracy: 0.6630 - val_loss: 0.5254 - val_accuracy: 0.7952\n",
            "Epoch 2/100\n",
            "536/536 [==============================] - 2s 4ms/step - loss: 0.5369 - accuracy: 0.7888 - val_loss: 0.4954 - val_accuracy: 0.7955\n",
            "Epoch 3/100\n",
            "536/536 [==============================] - 2s 5ms/step - loss: 0.5120 - accuracy: 0.7964 - val_loss: 0.4837 - val_accuracy: 0.7955\n",
            "Epoch 4/100\n",
            "536/536 [==============================] - 2s 5ms/step - loss: 0.4929 - accuracy: 0.7964 - val_loss: 0.4746 - val_accuracy: 0.7955\n",
            "Epoch 5/100\n",
            "536/536 [==============================] - 3s 6ms/step - loss: 0.4898 - accuracy: 0.7962 - val_loss: 0.4667 - val_accuracy: 0.7955\n",
            "Epoch 6/100\n",
            "536/536 [==============================] - 3s 5ms/step - loss: 0.4849 - accuracy: 0.7964 - val_loss: 0.4612 - val_accuracy: 0.7955\n",
            "Epoch 7/100\n",
            "536/536 [==============================] - 2s 4ms/step - loss: 0.4750 - accuracy: 0.7977 - val_loss: 0.4518 - val_accuracy: 0.7955\n",
            "Epoch 8/100\n",
            "536/536 [==============================] - 2s 4ms/step - loss: 0.4707 - accuracy: 0.7975 - val_loss: 0.4470 - val_accuracy: 0.7955\n",
            "Epoch 9/100\n",
            "536/536 [==============================] - 2s 4ms/step - loss: 0.4589 - accuracy: 0.8029 - val_loss: 0.4385 - val_accuracy: 0.7959\n",
            "Epoch 10/100\n",
            "536/536 [==============================] - 4s 7ms/step - loss: 0.4570 - accuracy: 0.8033 - val_loss: 0.4367 - val_accuracy: 0.7955\n",
            "Epoch 11/100\n",
            "536/536 [==============================] - 3s 5ms/step - loss: 0.4538 - accuracy: 0.8048 - val_loss: 0.4323 - val_accuracy: 0.7967\n",
            "Epoch 12/100\n",
            "536/536 [==============================] - 2s 4ms/step - loss: 0.4564 - accuracy: 0.8016 - val_loss: 0.4299 - val_accuracy: 0.7974\n",
            "Epoch 13/100\n",
            "536/536 [==============================] - 2s 4ms/step - loss: 0.4464 - accuracy: 0.8084 - val_loss: 0.4263 - val_accuracy: 0.7974\n",
            "Epoch 14/100\n",
            "536/536 [==============================] - 2s 5ms/step - loss: 0.4503 - accuracy: 0.8102 - val_loss: 0.4248 - val_accuracy: 0.7955\n",
            "Epoch 15/100\n",
            "536/536 [==============================] - 3s 5ms/step - loss: 0.4453 - accuracy: 0.8063 - val_loss: 0.4233 - val_accuracy: 0.7959\n",
            "Epoch 16/100\n",
            "536/536 [==============================] - 3s 6ms/step - loss: 0.4427 - accuracy: 0.8149 - val_loss: 0.4194 - val_accuracy: 0.7997\n",
            "Epoch 17/100\n",
            "536/536 [==============================] - 2s 4ms/step - loss: 0.4355 - accuracy: 0.8153 - val_loss: 0.4174 - val_accuracy: 0.8016\n",
            "Epoch 18/100\n",
            "536/536 [==============================] - 3s 5ms/step - loss: 0.4409 - accuracy: 0.8110 - val_loss: 0.4162 - val_accuracy: 0.8023\n",
            "Epoch 19/100\n",
            "536/536 [==============================] - 2s 4ms/step - loss: 0.4433 - accuracy: 0.8112 - val_loss: 0.4178 - val_accuracy: 0.8001\n",
            "Epoch 20/100\n",
            "536/536 [==============================] - 2s 5ms/step - loss: 0.4351 - accuracy: 0.8121 - val_loss: 0.4115 - val_accuracy: 0.8073\n",
            "Epoch 21/100\n",
            "536/536 [==============================] - 3s 6ms/step - loss: 0.4387 - accuracy: 0.8125 - val_loss: 0.4118 - val_accuracy: 0.8076\n",
            "Epoch 22/100\n",
            "536/536 [==============================] - 3s 5ms/step - loss: 0.4284 - accuracy: 0.8184 - val_loss: 0.4071 - val_accuracy: 0.8095\n",
            "Epoch 23/100\n",
            "536/536 [==============================] - 2s 5ms/step - loss: 0.4312 - accuracy: 0.8177 - val_loss: 0.4036 - val_accuracy: 0.8126\n",
            "Epoch 24/100\n",
            "536/536 [==============================] - 2s 4ms/step - loss: 0.4188 - accuracy: 0.8207 - val_loss: 0.3983 - val_accuracy: 0.8137\n",
            "Epoch 25/100\n",
            "536/536 [==============================] - 2s 4ms/step - loss: 0.4316 - accuracy: 0.8177 - val_loss: 0.4000 - val_accuracy: 0.8137\n",
            "Epoch 26/100\n",
            "536/536 [==============================] - 3s 6ms/step - loss: 0.4240 - accuracy: 0.8207 - val_loss: 0.3970 - val_accuracy: 0.8156\n",
            "Epoch 27/100\n",
            "536/536 [==============================] - 3s 5ms/step - loss: 0.4260 - accuracy: 0.8190 - val_loss: 0.3981 - val_accuracy: 0.8141\n",
            "Epoch 28/100\n",
            "536/536 [==============================] - 2s 4ms/step - loss: 0.4265 - accuracy: 0.8177 - val_loss: 0.3954 - val_accuracy: 0.8156\n",
            "Epoch 29/100\n",
            "536/536 [==============================] - 2s 4ms/step - loss: 0.4210 - accuracy: 0.8220 - val_loss: 0.3948 - val_accuracy: 0.8167\n",
            "Epoch 30/100\n",
            "536/536 [==============================] - 2s 5ms/step - loss: 0.4158 - accuracy: 0.8227 - val_loss: 0.3934 - val_accuracy: 0.8156\n",
            "Epoch 31/100\n",
            "536/536 [==============================] - 3s 6ms/step - loss: 0.4228 - accuracy: 0.8205 - val_loss: 0.3927 - val_accuracy: 0.8167\n",
            "Epoch 32/100\n",
            "536/536 [==============================] - 3s 5ms/step - loss: 0.4152 - accuracy: 0.8237 - val_loss: 0.3885 - val_accuracy: 0.8220\n",
            "Epoch 33/100\n",
            "536/536 [==============================] - 2s 5ms/step - loss: 0.4217 - accuracy: 0.8190 - val_loss: 0.3901 - val_accuracy: 0.8190\n",
            "Epoch 34/100\n",
            "536/536 [==============================] - 2s 4ms/step - loss: 0.4196 - accuracy: 0.8216 - val_loss: 0.3896 - val_accuracy: 0.8175\n",
            "Epoch 35/100\n",
            "536/536 [==============================] - 2s 4ms/step - loss: 0.4212 - accuracy: 0.8190 - val_loss: 0.3899 - val_accuracy: 0.8167\n",
            "Epoch 36/100\n",
            "536/536 [==============================] - 3s 6ms/step - loss: 0.4237 - accuracy: 0.8186 - val_loss: 0.3904 - val_accuracy: 0.8194\n",
            "Epoch 37/100\n",
            "536/536 [==============================] - 3s 6ms/step - loss: 0.4262 - accuracy: 0.8171 - val_loss: 0.3921 - val_accuracy: 0.8167\n",
            "Epoch 38/100\n",
            "536/536 [==============================] - 2s 4ms/step - loss: 0.4182 - accuracy: 0.8238 - val_loss: 0.3899 - val_accuracy: 0.8186\n",
            "Epoch 39/100\n",
            "536/536 [==============================] - 2s 4ms/step - loss: 0.4224 - accuracy: 0.8175 - val_loss: 0.3895 - val_accuracy: 0.8190\n",
            "Epoch 40/100\n",
            "536/536 [==============================] - 2s 5ms/step - loss: 0.4218 - accuracy: 0.8201 - val_loss: 0.3870 - val_accuracy: 0.8217\n",
            "Epoch 41/100\n",
            "536/536 [==============================] - 2s 4ms/step - loss: 0.4190 - accuracy: 0.8201 - val_loss: 0.3880 - val_accuracy: 0.8205\n",
            "Epoch 42/100\n",
            "536/536 [==============================] - 4s 7ms/step - loss: 0.4193 - accuracy: 0.8177 - val_loss: 0.3877 - val_accuracy: 0.8205\n",
            "Epoch 43/100\n",
            "536/536 [==============================] - 2s 4ms/step - loss: 0.4143 - accuracy: 0.8233 - val_loss: 0.3867 - val_accuracy: 0.8217\n",
            "Epoch 44/100\n",
            "536/536 [==============================] - 2s 4ms/step - loss: 0.4213 - accuracy: 0.8218 - val_loss: 0.3891 - val_accuracy: 0.8175\n",
            "Epoch 45/100\n",
            "536/536 [==============================] - 2s 4ms/step - loss: 0.4183 - accuracy: 0.8188 - val_loss: 0.3889 - val_accuracy: 0.8213\n",
            "Epoch 46/100\n",
            "536/536 [==============================] - 2s 4ms/step - loss: 0.4176 - accuracy: 0.8201 - val_loss: 0.3868 - val_accuracy: 0.8224\n",
            "Epoch 47/100\n",
            "536/536 [==============================] - 4s 7ms/step - loss: 0.4212 - accuracy: 0.8166 - val_loss: 0.3880 - val_accuracy: 0.8239\n",
            "Epoch 48/100\n",
            "536/536 [==============================] - 2s 5ms/step - loss: 0.4210 - accuracy: 0.8186 - val_loss: 0.3873 - val_accuracy: 0.8228\n",
            "Epoch 49/100\n",
            "536/536 [==============================] - 2s 4ms/step - loss: 0.4217 - accuracy: 0.8175 - val_loss: 0.3893 - val_accuracy: 0.8194\n",
            "Epoch 50/100\n",
            "536/536 [==============================] - 2s 4ms/step - loss: 0.4126 - accuracy: 0.8242 - val_loss: 0.3850 - val_accuracy: 0.8247\n",
            "Epoch 51/100\n",
            "536/536 [==============================] - 2s 4ms/step - loss: 0.4167 - accuracy: 0.8186 - val_loss: 0.3856 - val_accuracy: 0.8209\n",
            "Epoch 52/100\n",
            "536/536 [==============================] - 4s 7ms/step - loss: 0.4221 - accuracy: 0.8171 - val_loss: 0.3881 - val_accuracy: 0.8171\n",
            "Epoch 53/100\n",
            "536/536 [==============================] - 3s 5ms/step - loss: 0.4169 - accuracy: 0.8188 - val_loss: 0.3851 - val_accuracy: 0.8224\n",
            "Epoch 54/100\n",
            "536/536 [==============================] - 2s 5ms/step - loss: 0.4150 - accuracy: 0.8220 - val_loss: 0.3858 - val_accuracy: 0.8217\n",
            "Epoch 55/100\n",
            "536/536 [==============================] - 2s 5ms/step - loss: 0.4157 - accuracy: 0.8233 - val_loss: 0.3848 - val_accuracy: 0.8224\n",
            "Epoch 56/100\n",
            "536/536 [==============================] - 2s 4ms/step - loss: 0.4118 - accuracy: 0.8255 - val_loss: 0.3835 - val_accuracy: 0.8270\n",
            "Epoch 57/100\n",
            "536/536 [==============================] - 4s 7ms/step - loss: 0.4156 - accuracy: 0.8209 - val_loss: 0.3842 - val_accuracy: 0.8232\n",
            "Epoch 58/100\n",
            "536/536 [==============================] - 3s 6ms/step - loss: 0.4161 - accuracy: 0.8222 - val_loss: 0.3850 - val_accuracy: 0.8254\n",
            "Epoch 59/100\n",
            "536/536 [==============================] - 3s 5ms/step - loss: 0.4225 - accuracy: 0.8205 - val_loss: 0.3858 - val_accuracy: 0.8228\n",
            "Epoch 60/100\n",
            "536/536 [==============================] - 2s 5ms/step - loss: 0.4159 - accuracy: 0.8171 - val_loss: 0.3864 - val_accuracy: 0.8232\n",
            "Epoch 61/100\n",
            "536/536 [==============================] - 2s 5ms/step - loss: 0.4142 - accuracy: 0.8207 - val_loss: 0.3832 - val_accuracy: 0.8232\n",
            "Epoch 62/100\n",
            "536/536 [==============================] - 3s 6ms/step - loss: 0.4140 - accuracy: 0.8216 - val_loss: 0.3843 - val_accuracy: 0.8236\n",
            "Epoch 63/100\n",
            "536/536 [==============================] - 3s 5ms/step - loss: 0.4167 - accuracy: 0.8218 - val_loss: 0.3849 - val_accuracy: 0.8224\n",
            "Epoch 64/100\n",
            "536/536 [==============================] - 2s 5ms/step - loss: 0.4179 - accuracy: 0.8250 - val_loss: 0.3841 - val_accuracy: 0.8273\n",
            "Epoch 65/100\n",
            "536/536 [==============================] - 2s 4ms/step - loss: 0.4115 - accuracy: 0.8218 - val_loss: 0.3830 - val_accuracy: 0.8262\n",
            "Epoch 66/100\n",
            "536/536 [==============================] - 2s 5ms/step - loss: 0.4137 - accuracy: 0.8209 - val_loss: 0.3851 - val_accuracy: 0.8205\n",
            "Epoch 67/100\n",
            "536/536 [==============================] - 3s 6ms/step - loss: 0.4190 - accuracy: 0.8186 - val_loss: 0.3851 - val_accuracy: 0.8198\n",
            "Epoch 68/100\n",
            "536/536 [==============================] - 3s 6ms/step - loss: 0.4144 - accuracy: 0.8205 - val_loss: 0.3850 - val_accuracy: 0.8217\n",
            "Epoch 69/100\n",
            "536/536 [==============================] - 2s 5ms/step - loss: 0.4192 - accuracy: 0.8194 - val_loss: 0.3871 - val_accuracy: 0.8190\n",
            "Epoch 70/100\n",
            "536/536 [==============================] - 2s 4ms/step - loss: 0.4196 - accuracy: 0.8218 - val_loss: 0.3856 - val_accuracy: 0.8243\n",
            "Epoch 71/100\n",
            "536/536 [==============================] - 2s 4ms/step - loss: 0.4160 - accuracy: 0.8224 - val_loss: 0.3860 - val_accuracy: 0.8186\n",
            "Epoch 72/100\n",
            "536/536 [==============================] - 3s 5ms/step - loss: 0.4132 - accuracy: 0.8214 - val_loss: 0.3845 - val_accuracy: 0.8213\n",
            "Epoch 73/100\n",
            "536/536 [==============================] - 3s 6ms/step - loss: 0.4127 - accuracy: 0.8224 - val_loss: 0.3831 - val_accuracy: 0.8262\n",
            "Epoch 74/100\n",
            "536/536 [==============================] - 2s 4ms/step - loss: 0.4104 - accuracy: 0.8220 - val_loss: 0.3827 - val_accuracy: 0.8258\n",
            "Epoch 75/100\n",
            "536/536 [==============================] - 2s 4ms/step - loss: 0.4113 - accuracy: 0.8259 - val_loss: 0.3835 - val_accuracy: 0.8251\n",
            "Epoch 76/100\n",
            "536/536 [==============================] - 2s 5ms/step - loss: 0.4169 - accuracy: 0.8194 - val_loss: 0.3844 - val_accuracy: 0.8220\n",
            "Epoch 77/100\n",
            "536/536 [==============================] - 2s 4ms/step - loss: 0.4125 - accuracy: 0.8240 - val_loss: 0.3833 - val_accuracy: 0.8266\n",
            "Epoch 78/100\n",
            "536/536 [==============================] - 4s 7ms/step - loss: 0.4120 - accuracy: 0.8224 - val_loss: 0.3836 - val_accuracy: 0.8236\n",
            "Epoch 79/100\n",
            "536/536 [==============================] - 3s 5ms/step - loss: 0.4085 - accuracy: 0.8244 - val_loss: 0.3816 - val_accuracy: 0.8273\n",
            "Epoch 80/100\n",
            "536/536 [==============================] - 2s 5ms/step - loss: 0.4111 - accuracy: 0.8205 - val_loss: 0.3791 - val_accuracy: 0.8307\n",
            "Epoch 81/100\n",
            "536/536 [==============================] - 2s 5ms/step - loss: 0.4108 - accuracy: 0.8212 - val_loss: 0.3822 - val_accuracy: 0.8277\n",
            "Epoch 82/100\n",
            "536/536 [==============================] - 2s 5ms/step - loss: 0.4112 - accuracy: 0.8248 - val_loss: 0.3812 - val_accuracy: 0.8300\n",
            "Epoch 83/100\n",
            "536/536 [==============================] - 3s 6ms/step - loss: 0.4114 - accuracy: 0.8212 - val_loss: 0.3841 - val_accuracy: 0.8232\n",
            "Epoch 84/100\n",
            "536/536 [==============================] - 3s 5ms/step - loss: 0.4156 - accuracy: 0.8162 - val_loss: 0.3823 - val_accuracy: 0.8239\n",
            "Epoch 85/100\n",
            "536/536 [==============================] - 2s 4ms/step - loss: 0.4198 - accuracy: 0.8181 - val_loss: 0.3852 - val_accuracy: 0.8220\n",
            "Epoch 86/100\n",
            "536/536 [==============================] - 2s 4ms/step - loss: 0.4043 - accuracy: 0.8293 - val_loss: 0.3816 - val_accuracy: 0.8292\n",
            "Epoch 87/100\n",
            "536/536 [==============================] - 2s 5ms/step - loss: 0.4169 - accuracy: 0.8194 - val_loss: 0.3840 - val_accuracy: 0.8232\n",
            "Epoch 88/100\n",
            "536/536 [==============================] - 3s 5ms/step - loss: 0.4216 - accuracy: 0.8173 - val_loss: 0.3848 - val_accuracy: 0.8236\n",
            "Epoch 89/100\n",
            "536/536 [==============================] - 3s 6ms/step - loss: 0.4113 - accuracy: 0.8214 - val_loss: 0.3833 - val_accuracy: 0.8232\n",
            "Epoch 90/100\n",
            "536/536 [==============================] - 2s 4ms/step - loss: 0.4126 - accuracy: 0.8248 - val_loss: 0.3820 - val_accuracy: 0.8311\n",
            "Epoch 91/100\n",
            "536/536 [==============================] - 2s 4ms/step - loss: 0.4089 - accuracy: 0.8293 - val_loss: 0.3810 - val_accuracy: 0.8315\n",
            "Epoch 92/100\n",
            "536/536 [==============================] - 2s 5ms/step - loss: 0.4131 - accuracy: 0.8261 - val_loss: 0.3816 - val_accuracy: 0.8266\n",
            "Epoch 93/100\n",
            "536/536 [==============================] - 2s 4ms/step - loss: 0.4129 - accuracy: 0.8201 - val_loss: 0.3826 - val_accuracy: 0.8236\n",
            "Epoch 94/100\n",
            "536/536 [==============================] - 4s 7ms/step - loss: 0.4146 - accuracy: 0.8250 - val_loss: 0.3825 - val_accuracy: 0.8254\n",
            "Epoch 95/100\n",
            "536/536 [==============================] - 2s 5ms/step - loss: 0.4156 - accuracy: 0.8199 - val_loss: 0.3826 - val_accuracy: 0.8236\n",
            "Epoch 96/100\n",
            "536/536 [==============================] - 2s 5ms/step - loss: 0.4191 - accuracy: 0.8188 - val_loss: 0.3857 - val_accuracy: 0.8228\n",
            "Epoch 97/100\n",
            "536/536 [==============================] - 2s 5ms/step - loss: 0.4145 - accuracy: 0.8225 - val_loss: 0.3843 - val_accuracy: 0.8239\n",
            "Epoch 98/100\n",
            "536/536 [==============================] - 2s 5ms/step - loss: 0.4135 - accuracy: 0.8220 - val_loss: 0.3823 - val_accuracy: 0.8251\n",
            "Epoch 99/100\n",
            "536/536 [==============================] - 3s 6ms/step - loss: 0.4109 - accuracy: 0.8222 - val_loss: 0.3832 - val_accuracy: 0.8273\n",
            "Epoch 100/100\n",
            "536/536 [==============================] - 3s 5ms/step - loss: 0.4170 - accuracy: 0.8197 - val_loss: 0.3827 - val_accuracy: 0.8232\n",
            "63/63 [==============================] - 0s 2ms/step\n"
          ]
        }
      ]
    },
    {
      "cell_type": "code",
      "source": [],
      "metadata": {
        "id": "glXr4vXu-ISv"
      },
      "execution_count": null,
      "outputs": []
    }
  ]
}